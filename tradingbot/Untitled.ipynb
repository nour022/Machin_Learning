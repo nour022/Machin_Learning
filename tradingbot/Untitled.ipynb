{
 "cells": [
  {
   "cell_type": "code",
   "execution_count": 1,
   "id": "a0bfa87c-90e1-4bdb-b167-3fd8fa41b3e2",
   "metadata": {},
   "outputs": [],
   "source": [
    "%matplotlib inline\n",
    "import matplotlib.pyplot as plt\n",
    "import numpy as np\n",
    "import pandas as pd"
   ]
  },
  {
   "cell_type": "code",
   "execution_count": 2,
   "id": "8fe5ee3b-5ca6-4cc6-b18c-fe2b96b51541",
   "metadata": {},
   "outputs": [
    {
     "data": {
      "text/html": [
       "<div>\n",
       "<style scoped>\n",
       "    .dataframe tbody tr th:only-of-type {\n",
       "        vertical-align: middle;\n",
       "    }\n",
       "\n",
       "    .dataframe tbody tr th {\n",
       "        vertical-align: top;\n",
       "    }\n",
       "\n",
       "    .dataframe thead th {\n",
       "        text-align: right;\n",
       "    }\n",
       "</style>\n",
       "<table border=\"1\" class=\"dataframe\">\n",
       "  <thead>\n",
       "    <tr style=\"text-align: right;\">\n",
       "      <th></th>\n",
       "      <th>time</th>\n",
       "      <th>open</th>\n",
       "      <th>high</th>\n",
       "      <th>low</th>\n",
       "      <th>close</th>\n",
       "    </tr>\n",
       "  </thead>\n",
       "  <tbody>\n",
       "    <tr>\n",
       "      <th>0</th>\n",
       "      <td>1.698902e+09</td>\n",
       "      <td>1.05992</td>\n",
       "      <td>1.05999</td>\n",
       "      <td>1.05983</td>\n",
       "      <td>1.05986</td>\n",
       "    </tr>\n",
       "    <tr>\n",
       "      <th>1</th>\n",
       "      <td>1.698903e+09</td>\n",
       "      <td>1.05987</td>\n",
       "      <td>1.05997</td>\n",
       "      <td>1.05979</td>\n",
       "      <td>1.05993</td>\n",
       "    </tr>\n",
       "    <tr>\n",
       "      <th>2</th>\n",
       "      <td>1.698903e+09</td>\n",
       "      <td>1.05993</td>\n",
       "      <td>1.05997</td>\n",
       "      <td>1.05989</td>\n",
       "      <td>1.05990</td>\n",
       "    </tr>\n",
       "    <tr>\n",
       "      <th>3</th>\n",
       "      <td>1.698903e+09</td>\n",
       "      <td>1.05990</td>\n",
       "      <td>1.05991</td>\n",
       "      <td>1.05961</td>\n",
       "      <td>1.05966</td>\n",
       "    </tr>\n",
       "    <tr>\n",
       "      <th>4</th>\n",
       "      <td>1.698904e+09</td>\n",
       "      <td>1.05966</td>\n",
       "      <td>1.05983</td>\n",
       "      <td>1.05966</td>\n",
       "      <td>1.05982</td>\n",
       "    </tr>\n",
       "  </tbody>\n",
       "</table>\n",
       "</div>"
      ],
      "text/plain": [
       "           time     open     high      low    close\n",
       "0  1.698902e+09  1.05992  1.05999  1.05983  1.05986\n",
       "1  1.698903e+09  1.05987  1.05997  1.05979  1.05993\n",
       "2  1.698903e+09  1.05993  1.05997  1.05989  1.05990\n",
       "3  1.698903e+09  1.05990  1.05991  1.05961  1.05966\n",
       "4  1.698904e+09  1.05966  1.05983  1.05966  1.05982"
      ]
     },
     "execution_count": 2,
     "metadata": {},
     "output_type": "execute_result"
    }
   ],
   "source": [
    "daten = pd.read_csv(\"mein_dataframe.csv\")\n",
    "daten.head()"
   ]
  },
  {
   "cell_type": "code",
   "execution_count": 4,
   "id": "0a1c5356-4309-484d-a766-0c7974233f84",
   "metadata": {},
   "outputs": [
    {
     "name": "stdout",
     "output_type": "stream",
     "text": [
      "[19722.958333333332, 19767.958333333332, 19801.958333333332]\n"
     ]
    }
   ],
   "source": [
    "import time\n",
    "\n",
    "def date_to_float(date_string):\n",
    "    pattern = \"%d-%m-%Y\"\n",
    "    timestamp = time.mktime(time.strptime(date_string, pattern))\n",
    "    float_representation = timestamp / (60 * 60 * 24)\n",
    "    return float_representation\n",
    "\n",
    "date_list = [\"01-01-2024\", \"15-02-2024\", \"20-03-2024\"]  # Beispiel-Datumsliste\n",
    "\n",
    "float_representations = []\n",
    "\n",
    "for date in date_list:\n",
    "    float_rep = date_to_float(date)\n",
    "    float_representations.append(float_rep)\n",
    "\n",
    "print(float_representations)"
   ]
  },
  {
   "cell_type": "code",
   "execution_count": 3,
   "id": "45b80daf-2088-4030-8ace-b7687c82f926",
   "metadata": {},
   "outputs": [
    {
     "name": "stdout",
     "output_type": "stream",
     "text": [
      "[19723.0, 19768.0, 19802.0]\n"
     ]
    }
   ],
   "source": [
    "import pandas as pd\n",
    "\n",
    "date_list = [\"01-01-2024\", \"15-02-2024\", \"20-03-2024\"]  # Beispiel-Datumsliste\n",
    "\n",
    "# Erstelle ein Pandas DataFrame aus der Liste der Datumszeichenfolgen\n",
    "df = pd.DataFrame({\"Date\": date_list})\n",
    "\n",
    "# Konvertiere die Datumszeichenfolgen in ein Pandas-Datum\n",
    "df['Date'] = pd.to_datetime(df['Date'], format='%d-%m-%Y')\n",
    "\n",
    "# Berechne die Anzahl der Tage seit einem Bezugspunkt (hier: 1970-01-01)\n",
    "reference_date = pd.Timestamp('1970-01-01')\n",
    "df['Float_representation'] = (df['Date'] - reference_date) / pd.Timedelta(days=1)\n",
    "\n",
    "print(df['Float_representation'].tolist())\n"
   ]
  },
  {
   "cell_type": "code",
   "execution_count": 18,
   "id": "14b5e712-5990-43cf-85c2-3a14c6d0f651",
   "metadata": {},
   "outputs": [],
   "source": [
    "buy_arr = daten[daten[\"open\"] < daten[\"close\"]]  # Filtere die Zeilen, wo 'open' kleiner als 'close' ist\n",
    "\n",
    "sell_arr = daten[daten[\"open\"] > daten[\"close\"]]  # Filtere die Zeilen, wo 'open' nicht kleiner als 'close' ist\n",
    "\n",
    "X_buy = buy_arr.drop(\"close\",axis=1)\n",
    "y_buy= buy_arr[\"close\"]\n",
    "\n",
    "\n",
    "X_sell = sell_arr.drop(\"close\",axis=1)\n",
    "y_sell= sell_arr[\"close\"]\n",
    "\n",
    "from sklearn.model_selection import train_test_split\n",
    "\n",
    "X_train_sell, X_test_sell, y_train_sell, y_test_sell = train_test_split(X_sell, y_sell)\n",
    "X_train_buy, X_test_buy, y_train_buy, y_test_buy = train_test_split(X_buy, y_buy)\n"
   ]
  },
  {
   "cell_type": "code",
   "execution_count": 26,
   "id": "947cb57d-1b9c-4a8a-af69-3f5c3c4fe538",
   "metadata": {},
   "outputs": [
    {
     "data": {
      "text/html": [
       "<style>#sk-container-id-3 {color: black;}#sk-container-id-3 pre{padding: 0;}#sk-container-id-3 div.sk-toggleable {background-color: white;}#sk-container-id-3 label.sk-toggleable__label {cursor: pointer;display: block;width: 100%;margin-bottom: 0;padding: 0.3em;box-sizing: border-box;text-align: center;}#sk-container-id-3 label.sk-toggleable__label-arrow:before {content: \"▸\";float: left;margin-right: 0.25em;color: #696969;}#sk-container-id-3 label.sk-toggleable__label-arrow:hover:before {color: black;}#sk-container-id-3 div.sk-estimator:hover label.sk-toggleable__label-arrow:before {color: black;}#sk-container-id-3 div.sk-toggleable__content {max-height: 0;max-width: 0;overflow: hidden;text-align: left;background-color: #f0f8ff;}#sk-container-id-3 div.sk-toggleable__content pre {margin: 0.2em;color: black;border-radius: 0.25em;background-color: #f0f8ff;}#sk-container-id-3 input.sk-toggleable__control:checked~div.sk-toggleable__content {max-height: 200px;max-width: 100%;overflow: auto;}#sk-container-id-3 input.sk-toggleable__control:checked~label.sk-toggleable__label-arrow:before {content: \"▾\";}#sk-container-id-3 div.sk-estimator input.sk-toggleable__control:checked~label.sk-toggleable__label {background-color: #d4ebff;}#sk-container-id-3 div.sk-label input.sk-toggleable__control:checked~label.sk-toggleable__label {background-color: #d4ebff;}#sk-container-id-3 input.sk-hidden--visually {border: 0;clip: rect(1px 1px 1px 1px);clip: rect(1px, 1px, 1px, 1px);height: 1px;margin: -1px;overflow: hidden;padding: 0;position: absolute;width: 1px;}#sk-container-id-3 div.sk-estimator {font-family: monospace;background-color: #f0f8ff;border: 1px dotted black;border-radius: 0.25em;box-sizing: border-box;margin-bottom: 0.5em;}#sk-container-id-3 div.sk-estimator:hover {background-color: #d4ebff;}#sk-container-id-3 div.sk-parallel-item::after {content: \"\";width: 100%;border-bottom: 1px solid gray;flex-grow: 1;}#sk-container-id-3 div.sk-label:hover label.sk-toggleable__label {background-color: #d4ebff;}#sk-container-id-3 div.sk-serial::before {content: \"\";position: absolute;border-left: 1px solid gray;box-sizing: border-box;top: 0;bottom: 0;left: 50%;z-index: 0;}#sk-container-id-3 div.sk-serial {display: flex;flex-direction: column;align-items: center;background-color: white;padding-right: 0.2em;padding-left: 0.2em;position: relative;}#sk-container-id-3 div.sk-item {position: relative;z-index: 1;}#sk-container-id-3 div.sk-parallel {display: flex;align-items: stretch;justify-content: center;background-color: white;position: relative;}#sk-container-id-3 div.sk-item::before, #sk-container-id-3 div.sk-parallel-item::before {content: \"\";position: absolute;border-left: 1px solid gray;box-sizing: border-box;top: 0;bottom: 0;left: 50%;z-index: -1;}#sk-container-id-3 div.sk-parallel-item {display: flex;flex-direction: column;z-index: 1;position: relative;background-color: white;}#sk-container-id-3 div.sk-parallel-item:first-child::after {align-self: flex-end;width: 50%;}#sk-container-id-3 div.sk-parallel-item:last-child::after {align-self: flex-start;width: 50%;}#sk-container-id-3 div.sk-parallel-item:only-child::after {width: 0;}#sk-container-id-3 div.sk-dashed-wrapped {border: 1px dashed gray;margin: 0 0.4em 0.5em 0.4em;box-sizing: border-box;padding-bottom: 0.4em;background-color: white;}#sk-container-id-3 div.sk-label label {font-family: monospace;font-weight: bold;display: inline-block;line-height: 1.2em;}#sk-container-id-3 div.sk-label-container {text-align: center;}#sk-container-id-3 div.sk-container {/* jupyter's `normalize.less` sets `[hidden] { display: none; }` but bootstrap.min.css set `[hidden] { display: none !important; }` so we also need the `!important` here to be able to override the default hidden behavior on the sphinx rendered scikit-learn.org. See: https://github.com/scikit-learn/scikit-learn/issues/21755 */display: inline-block !important;position: relative;}#sk-container-id-3 div.sk-text-repr-fallback {display: none;}</style><div id=\"sk-container-id-3\" class=\"sk-top-container\"><div class=\"sk-text-repr-fallback\"><pre>LinearRegression()</pre><b>In a Jupyter environment, please rerun this cell to show the HTML representation or trust the notebook. <br />On GitHub, the HTML representation is unable to render, please try loading this page with nbviewer.org.</b></div><div class=\"sk-container\" hidden><div class=\"sk-item\"><div class=\"sk-estimator sk-toggleable\"><input class=\"sk-toggleable__control sk-hidden--visually\" id=\"sk-estimator-id-3\" type=\"checkbox\" checked><label for=\"sk-estimator-id-3\" class=\"sk-toggleable__label sk-toggleable__label-arrow\">LinearRegression</label><div class=\"sk-toggleable__content\"><pre>LinearRegression()</pre></div></div></div></div></div>"
      ],
      "text/plain": [
       "LinearRegression()"
      ]
     },
     "execution_count": 26,
     "metadata": {},
     "output_type": "execute_result"
    }
   ],
   "source": [
    "from sklearn.linear_model import LinearRegression\n",
    "\n",
    "buy = LinearRegression()\n",
    "buy.fit(X_train_buy, y_train_buy)\n",
    "\n",
    "sell = LinearRegression()\n",
    "sell.fit(X_train_sell, y_train_sell)"
   ]
  },
  {
   "cell_type": "code",
   "execution_count": 20,
   "id": "bb06345c-acd8-4fad-bb4b-b1062189424a",
   "metadata": {},
   "outputs": [
    {
     "data": {
      "text/plain": [
       "0.9999301206047118"
      ]
     },
     "execution_count": 20,
     "metadata": {},
     "output_type": "execute_result"
    }
   ],
   "source": [
    "buy.score(X_test_buy,y_test_buy)"
   ]
  },
  {
   "cell_type": "code",
   "execution_count": 21,
   "id": "92ba8a93-4035-43d7-8a91-dab171342528",
   "metadata": {},
   "outputs": [
    {
     "data": {
      "text/plain": [
       "array([1.07092198, 1.06672201, 1.09527035, ..., 1.09338765, 1.06483629,\n",
       "       1.09926294])"
      ]
     },
     "execution_count": 21,
     "metadata": {},
     "output_type": "execute_result"
    }
   ],
   "source": [
    "buy.predict(X_test)"
   ]
  },
  {
   "cell_type": "code",
   "execution_count": 22,
   "id": "73db9659-0382-4437-934b-cdea9aff93ee",
   "metadata": {},
   "outputs": [],
   "source": [
    "y_preds = model.predict(X_test)\n",
    "\n",
    "data = {\"ai-closeWert\": y_preds, \"real-closeWert\": y_test}\n",
    "df = pd.DataFrame(data)\n",
    "# df[df[\"real-closeWert\"]<df[\"ai-closeWert\"]]\n"
   ]
  },
  {
   "cell_type": "code",
   "execution_count": 23,
   "id": "739a9e58-6822-47b1-99b6-9d0409418669",
   "metadata": {},
   "outputs": [],
   "source": [
    "\n",
    "column_names = ['time', 'open', 'high', 'low']\n",
    "values = [[1681529400.0, 1.09432, 1.09445, 1.09425]]\n",
    "\n",
    "new_test = pd.DataFrame(values, columns=column_names)\n"
   ]
  },
  {
   "cell_type": "code",
   "execution_count": 24,
   "id": "b5b65141-c9f8-4f40-a362-83f16abcf317",
   "metadata": {},
   "outputs": [
    {
     "data": {
      "text/plain": [
       "1.094441530184417"
      ]
     },
     "execution_count": 24,
     "metadata": {},
     "output_type": "execute_result"
    }
   ],
   "source": [
    "#die aus gabe soll diese zahl raus 1.09428  die daten mussen spliten um den model zu erkannden wie er die warte schetzen kann \n",
    "buy.predict(new_test)[0]"
   ]
  },
  {
   "cell_type": "code",
   "execution_count": 27,
   "id": "1386585b-9d24-464d-ba0c-d1ee96a68c87",
   "metadata": {},
   "outputs": [
    {
     "data": {
      "text/plain": [
       "1.0598884523074164"
      ]
     },
     "execution_count": 27,
     "metadata": {},
     "output_type": "execute_result"
    }
   ],
   "source": [
    "# 1.05966 \n",
    "sell.predict(X_test[X_test[\"open\"]==1.05990])[0]"
   ]
  },
  {
   "cell_type": "code",
   "execution_count": 28,
   "id": "98d79a97-77fd-4e74-bee6-b9c3cfec6281",
   "metadata": {},
   "outputs": [
    {
     "data": {
      "text/plain": [
       "0.9999111435573382"
      ]
     },
     "execution_count": 28,
     "metadata": {},
     "output_type": "execute_result"
    }
   ],
   "source": [
    "sell.score(X_test_sell,y_test_sell)"
   ]
  },
  {
   "cell_type": "code",
   "execution_count": null,
   "id": "77a156e3-7708-4c7f-9c9c-9947b631a6b1",
   "metadata": {},
   "outputs": [],
   "source": []
  }
 ],
 "metadata": {
  "kernelspec": {
   "display_name": "Python 3 (ipykernel)",
   "language": "python",
   "name": "python3"
  },
  "language_info": {
   "codemirror_mode": {
    "name": "ipython",
    "version": 3
   },
   "file_extension": ".py",
   "mimetype": "text/x-python",
   "name": "python",
   "nbconvert_exporter": "python",
   "pygments_lexer": "ipython3",
   "version": "3.9.18"
  }
 },
 "nbformat": 4,
 "nbformat_minor": 5
}
