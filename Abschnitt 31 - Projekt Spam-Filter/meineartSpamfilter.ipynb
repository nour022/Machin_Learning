{
 "cells": [
  {
   "cell_type": "markdown",
   "id": "93d41e53-6173-40c7-a246-0f07b11bec86",
   "metadata": {},
   "source": [
    "# Spam-Filterung mit Naive-Bayes-Modell\r\n",
    "\r\n",
    "**Beschreibung:** Dieses Notebook beschäftigt sich mit der Erkennung von Spam-E-Mails mithilfe eines Naive-Bayes-Klassifikators. Es bezieht sich jedoch auf das Wine Quality Dataset als Beispiel für einen anderen Anwendungsfall. Das Ziel ist es, Spam von Nicht-Spam-E-Mails anhand der enthaltenen Merkmale zuverlässig zu klassifizieren.\r\n",
    "\r\n",
    "**Schritte:**\r\n",
    "\r\n",
    "1. **Importieren von Standardbibliotheken und Datenvorbereitung:** Beginnend mit der Datenbereinigung und -vorbereitung, importiert das Notebook erforderliche Bibliotheken und bereite`Spam-Filterung Dataset`ataset vor, um diesen für das Training des Naive-Bayes-Modells zu verwenden.\r\n",
    "\r\n",
    "2. **Auswahl des richtigen Schätzers/Algorithmus:** Für die Klassifizierung von Spam und Nicht-Spam in E-Mails wird der Naive-Bayes-Algorithmus als Schätzer gewählt, aufgrund seiner Einfachheit und Effektivität bei der Verarbeitung von Textdaten.\r\n",
    "\r\n",
    "3. **Anpassen des Naive-Bayes-Modells:** Der Naive-Bayes-Klassifikator wird mit den vorverarbeiteten Daten trainiert, um die Unterscheidungsmerkmale zwischen Spam und Nicht-Spam-E-Mails zu erlernen.\r\n",
    "\r\n",
    "4. **Modellbewertung:** Die Leistung des trainierten Naive-Bayes-Modells wird anhand verschiedener Metriken wie Genauigkeit, Präzision, Recall und F1-Score bewertet, um zu überprüfen, wie gut das Modell Spam von Nicht-Spam-E-Mails unterscheiden kann.\r\n",
    "\r\n",
    "5. **Verbesserung des Modells:** Um die Genauigkeit und Zuverlässigkeit des Modells zu steigern, können weitere Schritte wie Hyperparameter-Optimierung oder Merkmalsauswahl durchgeführt werden.\r\n",
    "\r\n",
    "6. **Speichern und Laden des trainierten Modells:** Nach erfolgreicher Modellverbesserung kann das trainierte Naive-Bayes-Modell gespeichert werden, um es später zu verwenden, wenn neue E-Mails auf Spam überprüft werden müssen.\r\n",
    "\r\n",
    "7. **Alles zusammenfassen:** Das Notebook schließt mit einer Zusammenfassung der gesamten Arbeitsweise des Naive-Bayes-Modells zur Spam-Erkennung und zeigt, wie es zur Klassifizierung von E-Mails verwendet werden kann.\r\n",
    "\r\n",
    "Dieses Notebook demonstriert die Implementierung eines Naive-Bayes-Modells zur Spam-Erkennung unter Verwendung des Konzepts und der Schritte einer anderen Anwendungsdomäne (Wine Quality Dataset) als Beispiel.\r\n",
    "n."
   ]
  },
  {
   "cell_type": "code",
   "execution_count": 1,
   "id": "946530cb-f819-45d5-a3cf-d99e02b5f9d9",
   "metadata": {},
   "outputs": [],
   "source": [
    "# Importiere die Standardbibliothek und bereite die Daten vor.\n",
    "%matplotlib inline\n",
    "import matplotlib.pyplot as plt\n",
    "import numpy as np\n",
    "import pandas as pd"
   ]
  },
  {
   "cell_type": "markdown",
   "id": "f7176a49-73fa-40b3-b492-fad75980469a",
   "metadata": {},
   "source": [
    "### 1.Bereite die Daten vor.\n",
    "- **Importieren von Standardbibliotheken und Datenvorbereitung:** Beginnend mit der Datenbereinigung und -vorbereitung, importiert das Notebook erforderliche Bibliotheken und bereitet den `Spam-Filterung Dataset` vor, um diesen für das Training des Naive-Bayes-Modells zu verwenden."
   ]
  },
  {
   "cell_type": "code",
   "execution_count": 2,
   "id": "18e64291-f787-4467-8d07-a1966b93e638",
   "metadata": {},
   "outputs": [
    {
     "data": {
      "text/html": [
       "<div>\n",
       "<style scoped>\n",
       "    .dataframe tbody tr th:only-of-type {\n",
       "        vertical-align: middle;\n",
       "    }\n",
       "\n",
       "    .dataframe tbody tr th {\n",
       "        vertical-align: top;\n",
       "    }\n",
       "\n",
       "    .dataframe thead th {\n",
       "        text-align: right;\n",
       "    }\n",
       "</style>\n",
       "<table border=\"1\" class=\"dataframe\">\n",
       "  <thead>\n",
       "    <tr style=\"text-align: right;\">\n",
       "      <th></th>\n",
       "      <th>type</th>\n",
       "      <th>message</th>\n",
       "    </tr>\n",
       "  </thead>\n",
       "  <tbody>\n",
       "    <tr>\n",
       "      <th>0</th>\n",
       "      <td>ham</td>\n",
       "      <td>Go until jurong point, crazy.. Available only ...</td>\n",
       "    </tr>\n",
       "    <tr>\n",
       "      <th>1</th>\n",
       "      <td>ham</td>\n",
       "      <td>Ok lar... Joking wif u oni...</td>\n",
       "    </tr>\n",
       "    <tr>\n",
       "      <th>2</th>\n",
       "      <td>spam</td>\n",
       "      <td>Free entry in 2 a wkly comp to win FA Cup fina...</td>\n",
       "    </tr>\n",
       "    <tr>\n",
       "      <th>3</th>\n",
       "      <td>ham</td>\n",
       "      <td>U dun say so early hor... U c already then say...</td>\n",
       "    </tr>\n",
       "    <tr>\n",
       "      <th>4</th>\n",
       "      <td>ham</td>\n",
       "      <td>Nah I don't think he goes to usf, he lives aro...</td>\n",
       "    </tr>\n",
       "  </tbody>\n",
       "</table>\n",
       "</div>"
      ],
      "text/plain": [
       "   type                                            message\n",
       "0   ham  Go until jurong point, crazy.. Available only ...\n",
       "1   ham                      Ok lar... Joking wif u oni...\n",
       "2  spam  Free entry in 2 a wkly comp to win FA Cup fina...\n",
       "3   ham  U dun say so early hor... U c already then say...\n",
       "4   ham  Nah I don't think he goes to usf, he lives aro..."
      ]
     },
     "execution_count": 2,
     "metadata": {},
     "output_type": "execute_result"
    }
   ],
   "source": [
    "# Leasen die daten von csv file \n",
    "daten = pd.read_csv(\"./spam.csv\")\n",
    "\n",
    "daten.head()"
   ]
  },
  {
   "cell_type": "code",
   "execution_count": 23,
   "id": "7be7e9a4-af2f-4920-ab7d-b903bb6ba00b",
   "metadata": {},
   "outputs": [
    {
     "data": {
      "text/html": [
       "<div>\n",
       "<style scoped>\n",
       "    .dataframe tbody tr th:only-of-type {\n",
       "        vertical-align: middle;\n",
       "    }\n",
       "\n",
       "    .dataframe tbody tr th {\n",
       "        vertical-align: top;\n",
       "    }\n",
       "\n",
       "    .dataframe thead th {\n",
       "        text-align: right;\n",
       "    }\n",
       "</style>\n",
       "<table border=\"1\" class=\"dataframe\">\n",
       "  <thead>\n",
       "    <tr style=\"text-align: right;\">\n",
       "      <th></th>\n",
       "      <th>type</th>\n",
       "      <th>message</th>\n",
       "    </tr>\n",
       "  </thead>\n",
       "  <tbody>\n",
       "    <tr>\n",
       "      <th>0</th>\n",
       "      <td>Nicht-Spam</td>\n",
       "      <td>Go until jurong point, crazy.. Available only ...</td>\n",
       "    </tr>\n",
       "    <tr>\n",
       "      <th>1</th>\n",
       "      <td>Nicht-Spam</td>\n",
       "      <td>Ok lar... Joking wif u oni...</td>\n",
       "    </tr>\n",
       "    <tr>\n",
       "      <th>2</th>\n",
       "      <td>spam</td>\n",
       "      <td>Free entry in 2 a wkly comp to win FA Cup fina...</td>\n",
       "    </tr>\n",
       "    <tr>\n",
       "      <th>3</th>\n",
       "      <td>Nicht-Spam</td>\n",
       "      <td>U dun say so early hor... U c already then say...</td>\n",
       "    </tr>\n",
       "    <tr>\n",
       "      <th>4</th>\n",
       "      <td>Nicht-Spam</td>\n",
       "      <td>Nah I don't think he goes to usf, he lives aro...</td>\n",
       "    </tr>\n",
       "    <tr>\n",
       "      <th>...</th>\n",
       "      <td>...</td>\n",
       "      <td>...</td>\n",
       "    </tr>\n",
       "    <tr>\n",
       "      <th>5567</th>\n",
       "      <td>spam</td>\n",
       "      <td>This is the 2nd time we have tried 2 contact u...</td>\n",
       "    </tr>\n",
       "    <tr>\n",
       "      <th>5568</th>\n",
       "      <td>Nicht-Spam</td>\n",
       "      <td>Will ?_ b going to esplanade fr home?</td>\n",
       "    </tr>\n",
       "    <tr>\n",
       "      <th>5569</th>\n",
       "      <td>Nicht-Spam</td>\n",
       "      <td>Pity, * was in mood for that. So...any other s...</td>\n",
       "    </tr>\n",
       "    <tr>\n",
       "      <th>5570</th>\n",
       "      <td>Nicht-Spam</td>\n",
       "      <td>The guy did some bitching but I acted like i'd...</td>\n",
       "    </tr>\n",
       "    <tr>\n",
       "      <th>5571</th>\n",
       "      <td>Nicht-Spam</td>\n",
       "      <td>Rofl. Its true to its name</td>\n",
       "    </tr>\n",
       "  </tbody>\n",
       "</table>\n",
       "<p>5572 rows × 2 columns</p>\n",
       "</div>"
      ],
      "text/plain": [
       "            type                                            message\n",
       "0     Nicht-Spam  Go until jurong point, crazy.. Available only ...\n",
       "1     Nicht-Spam                      Ok lar... Joking wif u oni...\n",
       "2           spam  Free entry in 2 a wkly comp to win FA Cup fina...\n",
       "3     Nicht-Spam  U dun say so early hor... U c already then say...\n",
       "4     Nicht-Spam  Nah I don't think he goes to usf, he lives aro...\n",
       "...          ...                                                ...\n",
       "5567        spam  This is the 2nd time we have tried 2 contact u...\n",
       "5568  Nicht-Spam              Will ?_ b going to esplanade fr home?\n",
       "5569  Nicht-Spam  Pity, * was in mood for that. So...any other s...\n",
       "5570  Nicht-Spam  The guy did some bitching but I acted like i'd...\n",
       "5571  Nicht-Spam                         Rofl. Its true to its name\n",
       "\n",
       "[5572 rows x 2 columns]"
      ]
     },
     "execution_count": 23,
     "metadata": {},
     "output_type": "execute_result"
    }
   ],
   "source": [
    "# tausche ham mit `Nicht-Spam`\n",
    "daten.loc[daten['type'] == 'ham', 'type'] = 'Nicht-Spam'\n",
    "daten"
   ]
  },
  {
   "cell_type": "code",
   "execution_count": 4,
   "id": "81475a80-59d4-44e2-9364-6c16e6e1a000",
   "metadata": {},
   "outputs": [
    {
     "data": {
      "text/plain": [
       "5572"
      ]
     },
     "execution_count": 4,
     "metadata": {},
     "output_type": "execute_result"
    }
   ],
   "source": [
    "len(daten) # Lange prüfen "
   ]
  },
  {
   "cell_type": "code",
   "execution_count": 5,
   "id": "e514c08e-f07d-4323-98ec-79ad03bb42f6",
   "metadata": {},
   "outputs": [
    {
     "data": {
      "text/plain": [
       "type       0\n",
       "message    0\n",
       "dtype: int64"
      ]
     },
     "execution_count": 5,
     "metadata": {},
     "output_type": "execute_result"
    }
   ],
   "source": [
    "daten.isna().sum()#  prüfen ob wirklich keine daten fahlt  "
   ]
  },
  {
   "cell_type": "code",
   "execution_count": null,
   "id": "8afdb5cb-f67e-4922-8cb9-9f739bdbb095",
   "metadata": {},
   "outputs": [],
   "source": []
  },
  {
   "cell_type": "markdown",
   "id": "4e024de4-cf1b-4e20-b0b4-c8df28048c7a",
   "metadata": {},
   "source": [
    "Der `CountVectorizer` aus der `sklearn`-Bibliothek ist ein Werkzeug zur Textvektorisierung, das Textdaten in eine numerische Darstellung umwandelt, die von maschinellen Lernmodellen verwendet werden kann. Es wandelt Textdokumente in eine Matrix um, die die Häufigkeit der Wörter in den Dokumenten zählt. Jedes Dokument wird als Vektor dargestellt, wobei jede Dimension des Vektors einem bestimmten Wort entspricht und der Wert in dieser Dimension die Häufigkeit des Worts im Dokument angibt. Der `CountVectorizer` ist eine grundlegende Methode zur Umwandlung von Textdaten in ein Format, das von maschinellen Lernmodellen leicht verarbeitet werden kann, insbesondere in Anwendungen des maschinellen Lernens im Bereich der natürlichen Sprachverarbeitung (NLP)."
   ]
  },
  {
   "cell_type": "code",
   "execution_count": 6,
   "id": "283ab440-fb04-436c-9499-63958fce09ff",
   "metadata": {},
   "outputs": [],
   "source": [
    "from sklearn.model_selection import train_test_split  # Daten ausschneiden und for modell vor breiten \n",
    "from sklearn.feature_extraction.text import CountVectorizer # convertieren die Strings daten auf matix nummeren \n",
    "\n",
    "X = daten[\"message\"]\n",
    "y = daten[\"type\"]\n",
    "X_train, X_test, y_train, y_test = train_test_split(X, y, random_state = 0)\n",
    "\n",
    "cv = CountVectorizer()\n",
    "cv.fit(X_train)\n",
    "\n",
    "X_train = cv.transform(X_train)\n",
    "X_test = cv.transform(X_test)"
   ]
  },
  {
   "cell_type": "code",
   "execution_count": 7,
   "id": "31e7282e-e96c-43e7-9082-3c0ea2705268",
   "metadata": {},
   "outputs": [
    {
     "data": {
      "text/plain": [
       "54998"
      ]
     },
     "execution_count": 7,
     "metadata": {},
     "output_type": "execute_result"
    }
   ],
   "source": [
    "X_train.size # "
   ]
  },
  {
   "cell_type": "code",
   "execution_count": 8,
   "id": "3d4a4666-d163-47c6-8d33-3ce26ea0eacb",
   "metadata": {},
   "outputs": [
    {
     "data": {
      "text/html": [
       "<div>\n",
       "<style scoped>\n",
       "    .dataframe tbody tr th:only-of-type {\n",
       "        vertical-align: middle;\n",
       "    }\n",
       "\n",
       "    .dataframe tbody tr th {\n",
       "        vertical-align: top;\n",
       "    }\n",
       "\n",
       "    .dataframe thead th {\n",
       "        text-align: right;\n",
       "    }\n",
       "</style>\n",
       "<table border=\"1\" class=\"dataframe\">\n",
       "  <thead>\n",
       "    <tr style=\"text-align: right;\">\n",
       "      <th></th>\n",
       "      <th>0</th>\n",
       "    </tr>\n",
       "  </thead>\n",
       "  <tbody>\n",
       "    <tr>\n",
       "      <th>0</th>\n",
       "      <td>(0, 2343)\\t1\\n  (0, 3921)\\t1\\n  (0, 4611)\\t1...</td>\n",
       "    </tr>\n",
       "    <tr>\n",
       "      <th>1</th>\n",
       "      <td>(0, 805)\\t1\\n  (0, 1951)\\t1\\n  (0, 2191)\\t1\\...</td>\n",
       "    </tr>\n",
       "    <tr>\n",
       "      <th>2</th>\n",
       "      <td>(0, 595)\\t1\\n  (0, 1293)\\t1\\n  (0, 2775)\\t1\\...</td>\n",
       "    </tr>\n",
       "    <tr>\n",
       "      <th>3</th>\n",
       "      <td>(0, 29)\\t1\\n  (0, 492)\\t1\\n  (0, 745)\\t1\\n  ...</td>\n",
       "    </tr>\n",
       "    <tr>\n",
       "      <th>4</th>\n",
       "      <td>(0, 978)\\t1\\n  (0, 1653)\\t1\\n  (0, 2775)\\t2\\...</td>\n",
       "    </tr>\n",
       "  </tbody>\n",
       "</table>\n",
       "</div>"
      ],
      "text/plain": [
       "                                                   0\n",
       "0    (0, 2343)\\t1\\n  (0, 3921)\\t1\\n  (0, 4611)\\t1...\n",
       "1    (0, 805)\\t1\\n  (0, 1951)\\t1\\n  (0, 2191)\\t1\\...\n",
       "2    (0, 595)\\t1\\n  (0, 1293)\\t1\\n  (0, 2775)\\t1\\...\n",
       "3    (0, 29)\\t1\\n  (0, 492)\\t1\\n  (0, 745)\\t1\\n  ...\n",
       "4    (0, 978)\\t1\\n  (0, 1653)\\t1\\n  (0, 2775)\\t2\\..."
      ]
     },
     "execution_count": 8,
     "metadata": {},
     "output_type": "execute_result"
    }
   ],
   "source": [
    "pd.DataFrame(X_train).head()"
   ]
  },
  {
   "cell_type": "code",
   "execution_count": 9,
   "id": "b99cd8a3-fe5a-402f-b374-d73f9605a2b5",
   "metadata": {},
   "outputs": [
    {
     "data": {
      "text/plain": [
       "(4179, 7323)"
      ]
     },
     "execution_count": 9,
     "metadata": {},
     "output_type": "execute_result"
    }
   ],
   "source": [
    "X_train.shape"
   ]
  },
  {
   "cell_type": "markdown",
   "id": "4a8bd045-31a3-46d3-af7c-f1f2882142ce",
   "metadata": {},
   "source": [
    "2. **Auswahl des richtigen Schätzers/Algorithmus:** Für die Klassifizierung von Spam und Nicht-Spam in E-Mails wird der Naive-Bayes-Algorithmus als Schätzer gewählt, aufgrund seiner Einfachheit und Effektivität bei der Verarbeitung von Textdaten."
   ]
  },
  {
   "cell_type": "markdown",
   "id": "d30d5743-8727-4841-908d-034dcbe16389",
   "metadata": {},
   "source": [
    "## Naive-Bayes-Klassifikationsmodell\n",
    "Das ist ein Klassifikationsmodell aus der `sklearn`-Bibliothek, genauer gesagt die `GaussianNB`-Klasse. Dieses Modell wird verwendet, um Trainingsdaten (`X_train` und `y_train`) zu trainieren und bewertet dann die Genauigkeit des trainierten Modells mit Testdaten (`X_test` und `y_test`). Dies erfolgt mithilfe der `score`-Methode, die die Genauigkeit des Modells auf den Testdaten ausgibt.\n"
   ]
  },
  {
   "cell_type": "code",
   "execution_count": 10,
   "id": "49313801-69da-4bfd-90ab-d9d34b680571",
   "metadata": {},
   "outputs": [
    {
     "data": {
      "text/plain": [
       "0.9066762383345298"
      ]
     },
     "execution_count": 10,
     "metadata": {},
     "output_type": "execute_result"
    }
   ],
   "source": [
    "from sklearn.naive_bayes import GaussianNB\n",
    "\n",
    "model = GaussianNB()\n",
    "model.fit(X_train.toarray(), y_train)\n",
    "\n",
    "model.score(X_test.toarray(), y_test)"
   ]
  },
  {
   "cell_type": "markdown",
   "id": "20c33fc3-da43-4773-8734-6967769afc30",
   "metadata": {},
   "source": [
    "Eine `Konfusionsmatrix` ist eine schnelle Möglichkeit, die Labels, die ein Modell vorhersagt, mit den tatsächlichen Labels, die es vorhersagen sollte, zu vergleichen.\r\n",
    "\r\n",
    "Im Wesentlichen gibt sie eine Idee, wo das Modell verwirrt wird."
   ]
  },
  {
   "cell_type": "code",
   "execution_count": 11,
   "id": "c61fb170-0c5a-4526-909a-58b5cf14e850",
   "metadata": {},
   "outputs": [
    {
     "data": {
      "text/html": [
       "<div>\n",
       "<style scoped>\n",
       "    .dataframe tbody tr th:only-of-type {\n",
       "        vertical-align: middle;\n",
       "    }\n",
       "\n",
       "    .dataframe tbody tr th {\n",
       "        vertical-align: top;\n",
       "    }\n",
       "\n",
       "    .dataframe thead th {\n",
       "        text-align: right;\n",
       "    }\n",
       "</style>\n",
       "<table border=\"1\" class=\"dataframe\">\n",
       "  <thead>\n",
       "    <tr style=\"text-align: right;\">\n",
       "      <th>predicted Labels</th>\n",
       "      <th>Nicht-Spam</th>\n",
       "      <th>spam</th>\n",
       "    </tr>\n",
       "    <tr>\n",
       "      <th>Actual Labels</th>\n",
       "      <th></th>\n",
       "      <th></th>\n",
       "    </tr>\n",
       "  </thead>\n",
       "  <tbody>\n",
       "    <tr>\n",
       "      <th>Nicht-Spam</th>\n",
       "      <td>1087</td>\n",
       "      <td>109</td>\n",
       "    </tr>\n",
       "    <tr>\n",
       "      <th>spam</th>\n",
       "      <td>21</td>\n",
       "      <td>176</td>\n",
       "    </tr>\n",
       "  </tbody>\n",
       "</table>\n",
       "</div>"
      ],
      "text/plain": [
       "predicted Labels  Nicht-Spam  spam\n",
       "Actual Labels                     \n",
       "Nicht-Spam              1087   109\n",
       "spam                      21   176"
      ]
     },
     "execution_count": 11,
     "metadata": {},
     "output_type": "execute_result"
    }
   ],
   "source": [
    "from sklearn.metrics import confusion_matrix\n",
    "y_preds = model.predict(X_test.toarray())\n",
    "confusion_matrix(y_test,y_preds)\n",
    "pd.crosstab(y_test,y_preds, rownames=[\"Actual Labels\"], colnames=[\"predicted Labels\"])"
   ]
  },
  {
   "cell_type": "code",
   "execution_count": 12,
   "id": "e9e78772-4da5-41a9-8e09-aaf8acb4daaf",
   "metadata": {},
   "outputs": [
    {
     "data": {
      "text/plain": [
       "array([0, 0, 0, ..., 0, 0, 0], dtype=int64)"
      ]
     },
     "execution_count": 12,
     "metadata": {},
     "output_type": "execute_result"
    }
   ],
   "source": [
    "X_train.toarray()[0]"
   ]
  },
  {
   "cell_type": "markdown",
   "id": "49356a6e-d228-4f03-9abb-8b0c24c351f1",
   "metadata": {},
   "source": [
    "3. **Anpassen des Naive-Bayes-Modells:** Der Naive-Bayes-Klassifikator wird mit den vorverarbeiteten Daten trainiert, um die Unterscheidungsmerkmale zwischen Spam und Nicht-Spam-E-Mails zu erlernen."
   ]
  },
  {
   "cell_type": "markdown",
   "id": "0b53409c-f391-4642-bfb6-f1070fa10d29",
   "metadata": {},
   "source": [
    "## MultinomialNB Naive-Bayes-Klassifikationsmodell\n",
    "Dies ist ein Naive-Bayes-Klassifikationsmodell aus der `sklearn`-Bibliothek, das speziell die `MultinomialNB`-Klasse verwendet. Es wird verwendet, um Trainingsdaten (`X_train` und `y_train`) zu trainieren und bewertet dann die Genauigkeit des trainierten Modells mit Testdaten (`X_test` und `y_test`). Dies geschieht mithilfe der `score`-Methode, die die Genauigkeit des Modells auf den Testdaten ausgibt, nachdem es die Testdaten in ein Array umgewandelt hat.\n"
   ]
  },
  {
   "cell_type": "code",
   "execution_count": 13,
   "id": "5f6b19c2-ec2c-44e9-8b06-0fb076889de8",
   "metadata": {},
   "outputs": [
    {
     "data": {
      "text/plain": [
       "0.9863603732950467"
      ]
     },
     "execution_count": 13,
     "metadata": {},
     "output_type": "execute_result"
    }
   ],
   "source": [
    "from sklearn.naive_bayes import MultinomialNB\n",
    "\n",
    "model = MultinomialNB()\n",
    "model.fit(X_train.toarray(), y_train)\n",
    "\n",
    "model.score(X_test.toarray(), y_test)"
   ]
  },
  {
   "cell_type": "code",
   "execution_count": null,
   "id": "63876cb0-7784-4426-bfc9-1de6646e8050",
   "metadata": {},
   "outputs": [],
   "source": []
  },
  {
   "cell_type": "code",
   "execution_count": 14,
   "id": "d800aeac-779d-40b0-b58e-0bf0f2669ad4",
   "metadata": {},
   "outputs": [
    {
     "data": {
      "text/plain": [
       "array([0.97607656, 0.98205742, 0.98325359, 0.97966507, 0.98443114])"
      ]
     },
     "execution_count": 14,
     "metadata": {},
     "output_type": "execute_result"
    }
   ],
   "source": [
    "from sklearn.model_selection import cross_val_score\n",
    "crossVAL = cross_val_score(model,X_train.toarray(),y_train,cv=5)\n",
    "crossVAL"
   ]
  },
  {
   "cell_type": "code",
   "execution_count": 15,
   "id": "00da44f6-3282-467d-a545-70b17740d85a",
   "metadata": {},
   "outputs": [
    {
     "data": {
      "text/plain": [
       "0.9810967538606997"
      ]
     },
     "execution_count": 15,
     "metadata": {},
     "output_type": "execute_result"
    }
   ],
   "source": [
    "np.mean(crossVAL)"
   ]
  },
  {
   "cell_type": "code",
   "execution_count": 16,
   "id": "cf610b0c-f822-4463-9afd-24462435eab7",
   "metadata": {},
   "outputs": [
    {
     "data": {
      "text/html": [
       "<div>\n",
       "<style scoped>\n",
       "    .dataframe tbody tr th:only-of-type {\n",
       "        vertical-align: middle;\n",
       "    }\n",
       "\n",
       "    .dataframe tbody tr th {\n",
       "        vertical-align: top;\n",
       "    }\n",
       "\n",
       "    .dataframe thead th {\n",
       "        text-align: right;\n",
       "    }\n",
       "</style>\n",
       "<table border=\"1\" class=\"dataframe\">\n",
       "  <thead>\n",
       "    <tr style=\"text-align: right;\">\n",
       "      <th>predicted Labels</th>\n",
       "      <th>Nicht-Spam</th>\n",
       "      <th>spam</th>\n",
       "    </tr>\n",
       "    <tr>\n",
       "      <th>Actual Labels</th>\n",
       "      <th></th>\n",
       "      <th></th>\n",
       "    </tr>\n",
       "  </thead>\n",
       "  <tbody>\n",
       "    <tr>\n",
       "      <th>Nicht-Spam</th>\n",
       "      <td>1193</td>\n",
       "      <td>3</td>\n",
       "    </tr>\n",
       "    <tr>\n",
       "      <th>spam</th>\n",
       "      <td>16</td>\n",
       "      <td>181</td>\n",
       "    </tr>\n",
       "  </tbody>\n",
       "</table>\n",
       "</div>"
      ],
      "text/plain": [
       "predicted Labels  Nicht-Spam  spam\n",
       "Actual Labels                     \n",
       "Nicht-Spam              1193     3\n",
       "spam                      16   181"
      ]
     },
     "execution_count": 16,
     "metadata": {},
     "output_type": "execute_result"
    }
   ],
   "source": [
    "from sklearn.metrics import confusion_matrix\n",
    "y_preds = model.predict(X_test.toarray())\n",
    "confusion_matrix(y_test,y_preds)\n",
    "pd.crosstab(y_test,y_preds, rownames=[\"Actual Labels\"], colnames=[\"predicted Labels\"])"
   ]
  },
  {
   "cell_type": "code",
   "execution_count": 17,
   "id": "5e36a3d1-7ed5-4e07-8a56-829afb38d4ac",
   "metadata": {},
   "outputs": [
    {
     "name": "stdout",
     "output_type": "stream",
     "text": [
      "Genauigkeit: 0.99\n",
      "              precision    recall  f1-score   support\n",
      "\n",
      "  Nicht-Spam       0.99      1.00      0.99      1196\n",
      "        spam       0.98      0.92      0.95       197\n",
      "\n",
      "    accuracy                           0.99      1393\n",
      "   macro avg       0.99      0.96      0.97      1393\n",
      "weighted avg       0.99      0.99      0.99      1393\n",
      "\n"
     ]
    },
    {
     "data": {
      "image/png": "[encoded data removed]",
      "text/plain": [
       "<Figure size 600x400 with 1 Axes>"
      ]
     },
     "metadata": {},
     "output_type": "display_data"
    }
   ],
   "source": [
    "from sklearn.metrics import accuracy_score,classification_report\n",
    "# Vorhersage auf Testdaten\n",
    "predictions = model.predict(X_test)\n",
    "\n",
    "# Evaluierung des Modells\n",
    "accuracy = accuracy_score(y_test, predictions)\n",
    "print(f'Genauigkeit: {accuracy:.2f}')\n",
    "\n",
    "print(classification_report(y_test, predictions))\n",
    "\n",
    "# Visualisierung der Vorhersagen\n",
    "correct_predictions = (y_test == predictions).sum()\n",
    "incorrect_predictions = len(y_test) - correct_predictions\n",
    "\n",
    "plt.figure(figsize=(6, 4))\n",
    "plt.bar(['Korrekt', 'Falsch'], [correct_predictions, incorrect_predictions], color=['green', 'red'])\n",
    "plt.xlabel('Vorhersagen')\n",
    "plt.ylabel('Anzahl')\n",
    "plt.title('Korrekte und falsche Vorhersagen')\n",
    "plt.show()"
   ]
  },
  {
   "cell_type": "code",
   "execution_count": 18,
   "id": "5ed28dd5-e149-4018-9d51-24e68d7aff33",
   "metadata": {},
   "outputs": [],
   "source": [
    "msg  = np.array([\"Go until jurong point, crazy.. Available only ...\" ])\n",
    "msg_transform = cv.transform(msg)\n",
    "predictions = model.predict(msg_transform.toarray())"
   ]
  },
  {
   "cell_type": "code",
   "execution_count": 19,
   "id": "dee9dcd3-3a24-4022-a6fe-538090fa0135",
   "metadata": {},
   "outputs": [
    {
     "name": "stdout",
     "output_type": "stream",
     "text": [
      "diese Email handelt es sind um eine Nicht-Spam email.\n"
     ]
    }
   ],
   "source": [
    "print(f\"diese Email handelt es sind um eine {predictions[0]} email.\") "
   ]
  },
  {
   "cell_type": "code",
   "execution_count": 20,
   "id": "95d11109-693e-4115-95af-b45157cc9f24",
   "metadata": {},
   "outputs": [],
   "source": [
    "msg  = np.array([\"Free entry in 2 a wkly comp to win FA Cup fina....\" ])\n",
    "msg_transform = cv.transform(msg)\n",
    "predictions = model.predict(msg_transform.toarray())"
   ]
  },
  {
   "cell_type": "markdown",
   "id": "2534dc22-e95d-4253-8a59-8477def1940c",
   "metadata": {},
   "source": [
    "## 6. Save and reload your trained model\n",
    "\n",
    "You can save and load a model with pickle."
   ]
  },
  {
   "cell_type": "code",
   "execution_count": 21,
   "id": "4c48b10c-bf72-455d-87ae-1e8d3de98f67",
   "metadata": {},
   "outputs": [],
   "source": [
    "# Saving a model with pickle\n",
    "import pickle\n",
    "\n",
    "# Save an existing model to file\n",
    "pickle.dump(model, open(\"rs_random_forest_model_wheat_1.pkl\", \"wb\"))"
   ]
  },
  {
   "cell_type": "code",
   "execution_count": 22,
   "id": "b5cce09a-93ee-439b-ba54-39af6ba979a0",
   "metadata": {},
   "outputs": [
    {
     "data": {
      "text/plain": [
       "0.9863603732950467"
      ]
     },
     "execution_count": 22,
     "metadata": {},
     "output_type": "execute_result"
    }
   ],
   "source": [
    "# Load a saved pickle model\n",
    "loaded_pickle_model = pickle.load(open(\"rs_random_forest_model_wheat_1.pkl\", \"rb\"))\n",
    "\n",
    "# Evaluate loaded model\n",
    "loaded_pickle_model.score(X_test, y_test)"
   ]
  },
  {
   "cell_type": "markdown",
   "id": "c19e1877-7da0-4d3a-81a6-a293e4e227a8",
   "metadata": {},
   "source": [
    "Guten Tag, alle zusammen. Heute werde ich Ihnen einen Code vorstellen, der eine Zusammenfassung einer Spamfilter (Machin Learning) generiert.\r\n",
    "\r\n",
    "1. **Spamfilter**\r\n",
    "Zunächst einmal, unser Code nutzt die Python-Bibliothek sklearn, um einen Spamfilter zu erstellen. Dieser Spamfilter verwendet Textvektorisierung und die Naive-Bayes-Klassifikation, um E-Mails als Spam oder Nicht-Spam zu kennzeichnen. Dies ist ein wichtiger Schritt, um unerwünschte E-Mails zu filtern und die Qualität unserer Kommunikation zu verbessern.\r\n",
    "\r\n",
    "2. **Datenanalyse**\r\n",
    "Unser Code führt auch einige Datenanalyse-Schritte durch. Er liest eine CSV-Datei, überprüft auf fehlende Werte, erstellt eine Konfusionsmatrix und berechnet die Genauigkeit des Modells. Diese Schritte sind entscheidend, um die Leistung unseres Modells zu bewerten und zu verbessern.\r\n",
    "\r\n",
    "3. **Modellspeicherung und -ladung**\r\n",
    "Ein weiterer wichtiger Aspekt unseres Codes ist die Fähigkeit, ein trainiertes Modell zu speichern und zu laden. Wir verwenden die Bibliothek pickle, um unser Modell zu speichern und später wiederzuverwenden. Dies spart uns wertvolle Rechenzeit und Ressourcen, da wir das Modell nicht jedes Mal neu trainieren müssen.\r\n",
    "\r\n",
    "4. **Vorhersagen**\r\n",
    "Schließlich macht unser Code einige Vorhersagen mit dem trainierten Modell auf neuen E-Mails und zeigt die Ergebnisse an. Dies ist der endgültige Schritt, bei dem wir die Leistung unseres Modells in der Praxis sehen können.\r\n",
    "\r\n",
    "Zusammenfassend lässt sich sagen, dass unser Code zur Generierung von Seitenzusammenfassungen ein leistungsstarkes Werkzeug ist, das uns hilft, Spam zu filtern, Daten zu analysieren, Modelle zu speichern und zu laden und Vorhersagen zu treffen. Vielen Dank für Ihre Aufmerksamkeit."
   ]
  },
  {
   "cell_type": "code",
   "execution_count": null,
   "id": "b04f4377-40f5-42bf-8ea9-60c8ebd895f0",
   "metadata": {},
   "outputs": [],
   "source": []
  },
  {
   "cell_type": "code",
   "execution_count": null,
   "id": "e3950548-643b-4390-a416-909f6e1d17f8",
   "metadata": {},
   "outputs": [],
   "source": []
  }
 ],
 "metadata": {
  "kernelspec": {
   "display_name": "Python 3 (ipykernel)",
   "language": "python",
   "name": "python3"
  },
  "language_info": {
   "codemirror_mode": {
    "name": "ipython",
    "version": 3
   },
   "file_extension": ".py",
   "mimetype": "text/x-python",
   "name": "python",
   "nbconvert_exporter": "python",
   "pygments_lexer": "ipython3",
   "version": "3.9.18"
  }
 },
 "nbformat": 4,
 "nbformat_minor": 5
}
