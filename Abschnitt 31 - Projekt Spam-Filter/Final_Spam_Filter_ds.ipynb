{
 "cells": [
  {
   "cell_type": "markdown",
   "id": "6512d6f2-8e30-4940-afdb-d4c8b7a27007",
   "metadata": {},
   "source": [
    "## Beschreibung des maschinellen  zur Spam-Klassifizierung\r\n",
    "\r\n",
    "### Beschreibung:\r\n",
    "\r\n",
    "Das vorliegende Skript ist ein Beispiel für ein maschinelles Lernprojekt, das darauf abzielt, Spam-Nachrichten von nicht-spamartigen Nachrichten zu unterscheiden. Es verwendet zwei Varianten des Naive Bayes-Klassifikators, nämlich GaussianNB und MultinomialNB, um die Nachrichten zu klassifizieren. Der Code evaluiert die Leistung dieser Modelle anhand verschiedener Metriken wie Genauigkeit, Kreuzvalidierung, Confusion Matrix und Klassifizierungsbericht.i\n",
    "    ertes Modell für zukünftige Verwendungszwecke zu speichern und zu laden.\r\n",
    "orbereitung und Modellierung.\r\n"
   ]
  },
  {
   "cell_type": "markdown",
   "id": "cbe3aa09-f4dd-4986-b3fc-7adaf1f65430",
   "metadata": {},
   "source": [
    "1. **Datenimport und -vorbereitung:**\n",
    "   - Importiere die erforderlichen Bibliotheken (Pandas, NumPy, Matplotlib) und lade die Daten aus einer CSV-Datei (`spam.csv`).\n",
    "   - Ersetze die Kategorie 'ham' durch 'Nicht-Spam'.\n",
    "   - Überprüfe die Daten auf das Vorhandensein fehlender Werte."
   ]
  },
  {
   "cell_type": "code",
   "execution_count": 1,
   "id": "d92f2d56-710b-4b1e-bc9c-4f4541c80148",
   "metadata": {},
   "outputs": [],
   "source": [
    "# Importiere die benötigten Bibliotheken\n",
    "%matplotlib inline\n",
    "import matplotlib.pyplot as plt\n",
    "import numpy as np\n",
    "import pandas as pd"
   ]
  },
  {
   "cell_type": "code",
   "execution_count": 2,
   "id": "f88148c8-be70-459a-947b-a7ecf83897a7",
   "metadata": {},
   "outputs": [],
   "source": [
    "# Lese die Daten aus der CSV-Datei ein\n",
    "daten = pd.read_csv(\"./spam.csv\")"
   ]
  },
  {
   "cell_type": "code",
   "execution_count": 3,
   "id": "d600baa7-80ce-4096-9f7e-6d37a72233ae",
   "metadata": {},
   "outputs": [
    {
     "data": {
      "text/html": [
       "<div>\n",
       "<style scoped>\n",
       "    .dataframe tbody tr th:only-of-type {\n",
       "        vertical-align: middle;\n",
       "    }\n",
       "\n",
       "    .dataframe tbody tr th {\n",
       "        vertical-align: top;\n",
       "    }\n",
       "\n",
       "    .dataframe thead th {\n",
       "        text-align: right;\n",
       "    }\n",
       "</style>\n",
       "<table border=\"1\" class=\"dataframe\">\n",
       "  <thead>\n",
       "    <tr style=\"text-align: right;\">\n",
       "      <th></th>\n",
       "      <th>type</th>\n",
       "      <th>message</th>\n",
       "    </tr>\n",
       "  </thead>\n",
       "  <tbody>\n",
       "    <tr>\n",
       "      <th>0</th>\n",
       "      <td>ham</td>\n",
       "      <td>Go until jurong point, crazy.. Available only ...</td>\n",
       "    </tr>\n",
       "    <tr>\n",
       "      <th>1</th>\n",
       "      <td>ham</td>\n",
       "      <td>Ok lar... Joking wif u oni...</td>\n",
       "    </tr>\n",
       "    <tr>\n",
       "      <th>2</th>\n",
       "      <td>spam</td>\n",
       "      <td>Free entry in 2 a wkly comp to win FA Cup fina...</td>\n",
       "    </tr>\n",
       "    <tr>\n",
       "      <th>3</th>\n",
       "      <td>ham</td>\n",
       "      <td>U dun say so early hor... U c already then say...</td>\n",
       "    </tr>\n",
       "    <tr>\n",
       "      <th>4</th>\n",
       "      <td>ham</td>\n",
       "      <td>Nah I don't think he goes to usf, he lives aro...</td>\n",
       "    </tr>\n",
       "  </tbody>\n",
       "</table>\n",
       "</div>"
      ],
      "text/plain": [
       "   type                                            message\n",
       "0   ham  Go until jurong point, crazy.. Available only ...\n",
       "1   ham                      Ok lar... Joking wif u oni...\n",
       "2  spam  Free entry in 2 a wkly comp to win FA Cup fina...\n",
       "3   ham  U dun say so early hor... U c already then say...\n",
       "4   ham  Nah I don't think he goes to usf, he lives aro..."
      ]
     },
     "execution_count": 3,
     "metadata": {},
     "output_type": "execute_result"
    }
   ],
   "source": [
    "# Zeige die ersten Zeilen der Daten an\n",
    "daten.head()"
   ]
  },
  {
   "cell_type": "code",
   "execution_count": 4,
   "id": "a3188e41-4e45-4db3-91a2-501b51a358fa",
   "metadata": {},
   "outputs": [],
   "source": [
    "# Ersetze 'ham' mit 'Nicht-Spam'\n",
    "daten.loc[daten['type'] == 'ham', 'type'] = 'Nicht-Spam'"
   ]
  },
  {
   "cell_type": "code",
   "execution_count": 5,
   "id": "a924da7f-7678-45f4-a699-ba184e7231aa",
   "metadata": {},
   "outputs": [
    {
     "data": {
      "text/plain": [
       "5572"
      ]
     },
     "execution_count": 5,
     "metadata": {},
     "output_type": "execute_result"
    }
   ],
   "source": [
    "# Überprüfe die Länge der Daten\n",
    "len(daten)"
   ]
  },
  {
   "cell_type": "code",
   "execution_count": 6,
   "id": "64c969e6-3258-4486-a56c-296914d57d4d",
   "metadata": {},
   "outputs": [
    {
     "data": {
      "text/plain": [
       "type       0\n",
       "message    0\n",
       "dtype: int64"
      ]
     },
     "execution_count": 6,
     "metadata": {},
     "output_type": "execute_result"
    }
   ],
   "source": [
    "# Überprüfe, ob fehlende Daten vorhanden sind\n",
    "daten.isna().sum()"
   ]
  },
  {
   "cell_type": "markdown",
   "id": "f88dc2c4-5eeb-4bef-a401-fcf59a168304",
   "metadata": {},
   "source": [
    "2. **Vorbereitung der Daten für das Modell:**\n",
    "   - Teile die Daten in Trainings- und Testsets auf.\n",
    "   - Wandle die Textnachrichten mithilfe von `CountVectorizer` in numerische Matrizen um.\n"
   ]
  },
  {
   "cell_type": "code",
   "execution_count": 7,
   "id": "fd123957-1e50-4135-a863-ec2d40e17719",
   "metadata": {},
   "outputs": [],
   "source": [
    "# Importiere die erforderlichen Funktionen und Klassen für die Datenverarbeitung\n",
    "from sklearn.model_selection import train_test_split\n",
    "from sklearn.feature_extraction.text import CountVectorizer\n",
    "\n",
    "# Teile die Daten in Trainings- und Testsets auf\n",
    "X = daten[\"message\"]\n",
    "y = daten[\"type\"]\n",
    "X_train, X_test, y_train, y_test = train_test_split(X, y, random_state=0)\n",
    "\n",
    "# Konvertiere die Textdaten in eine numerische Matrix\n",
    "cv = CountVectorizer()\n",
    "cv.fit(X_train)\n",
    "X_train = cv.transform(X_train)\n",
    "X_test = cv.transform(X_test)"
   ]
  },
  {
   "cell_type": "markdown",
   "id": "87f12245-3b93-4021-8526-40ec3d093c98",
   "metadata": {},
   "source": [
    "3. **Training und Evaluation des ersten Modells (GaussianNB):**\n",
    "   - Trainiere ein Naive Bayes Modell (GaussianNB) mit den Trainingsdaten.\n",
    "   - Bewerte die Leistung des Modells auf den Testdaten mithilfe von `model.score`.\n",
    "   - Erstelle eine Confusion Matrix und eine Kreuztabelle für die Vorhersagen."
   ]
  },
  {
   "cell_type": "code",
   "execution_count": 8,
   "id": "1442ec98-840e-4eaf-8895-37c43793369d",
   "metadata": {},
   "outputs": [
    {
     "data": {
      "text/plain": [
       "0.9066762383345298"
      ]
     },
     "execution_count": 8,
     "metadata": {},
     "output_type": "execute_result"
    }
   ],
   "source": [
    "# Trainiere ein Naive Bayes Modell (GaussianNB)\n",
    "from sklearn.naive_bayes import GaussianNB\n",
    "model = GaussianNB()\n",
    "np.random.seed(42)\n",
    "model.fit(X_train.toarray(), y_train)\n",
    "\n",
    "# Evaluiere das Modell\n",
    "model.score(X_test.toarray(), y_test)"
   ]
  },
  {
   "cell_type": "code",
   "execution_count": 9,
   "id": "bb2edce4-23d0-4771-a44f-ccb43f0fefec",
   "metadata": {},
   "outputs": [
    {
     "data": {
      "text/html": [
       "<div>\n",
       "<style scoped>\n",
       "    .dataframe tbody tr th:only-of-type {\n",
       "        vertical-align: middle;\n",
       "    }\n",
       "\n",
       "    .dataframe tbody tr th {\n",
       "        vertical-align: top;\n",
       "    }\n",
       "\n",
       "    .dataframe thead th {\n",
       "        text-align: right;\n",
       "    }\n",
       "</style>\n",
       "<table border=\"1\" class=\"dataframe\">\n",
       "  <thead>\n",
       "    <tr style=\"text-align: right;\">\n",
       "      <th>Predicted Labels</th>\n",
       "      <th>Nicht-Spam</th>\n",
       "      <th>spam</th>\n",
       "    </tr>\n",
       "    <tr>\n",
       "      <th>Actual Labels</th>\n",
       "      <th></th>\n",
       "      <th></th>\n",
       "    </tr>\n",
       "  </thead>\n",
       "  <tbody>\n",
       "    <tr>\n",
       "      <th>Nicht-Spam</th>\n",
       "      <td>1087</td>\n",
       "      <td>109</td>\n",
       "    </tr>\n",
       "    <tr>\n",
       "      <th>spam</th>\n",
       "      <td>21</td>\n",
       "      <td>176</td>\n",
       "    </tr>\n",
       "  </tbody>\n",
       "</table>\n",
       "</div>"
      ],
      "text/plain": [
       "Predicted Labels  Nicht-Spam  spam\n",
       "Actual Labels                     \n",
       "Nicht-Spam              1087   109\n",
       "spam                      21   176"
      ]
     },
     "execution_count": 9,
     "metadata": {},
     "output_type": "execute_result"
    }
   ],
   "source": [
    "# Erstelle eine Confusion Matrix\n",
    "from sklearn.metrics import confusion_matrix\n",
    "y_preds = model.predict(X_test.toarray())\n",
    "confusion_matrix(y_test, y_preds)\n",
    "\n",
    "# Berechne und zeige eine Kreuztabelle der Vorhersagen\n",
    "pd.crosstab(y_test, y_preds, rownames=[\"Actual Labels\"], colnames=[\"Predicted Labels\"])"
   ]
  },
  {
   "cell_type": "markdown",
   "id": "cc018f5a-b01b-4bf0-8036-4ab1b9b557a2",
   "metadata": {},
   "source": [
    "4. **Training und Evaluation des zweiten Modells (MultinomialNB):**\n",
    "   - Trainiere ein weiteres Naive Bayes Modell (MultinomialNB) mit den Trainingsdaten.\n",
    "   - Führe eine Kreuzvalidierung durch und berechne den Durchschnitt der Ergebnisse."
   ]
  },
  {
   "cell_type": "code",
   "execution_count": 10,
   "id": "1d1f74cb-d11f-40af-a417-f4dd51d1c2d8",
   "metadata": {},
   "outputs": [
    {
     "data": {
      "text/html": [
       "<style>#sk-container-id-1 {color: black;}#sk-container-id-1 pre{padding: 0;}#sk-container-id-1 div.sk-toggleable {background-color: white;}#sk-container-id-1 label.sk-toggleable__label {cursor: pointer;display: block;width: 100%;margin-bottom: 0;padding: 0.3em;box-sizing: border-box;text-align: center;}#sk-container-id-1 label.sk-toggleable__label-arrow:before {content: \"▸\";float: left;margin-right: 0.25em;color: #696969;}#sk-container-id-1 label.sk-toggleable__label-arrow:hover:before {color: black;}#sk-container-id-1 div.sk-estimator:hover label.sk-toggleable__label-arrow:before {color: black;}#sk-container-id-1 div.sk-toggleable__content {max-height: 0;max-width: 0;overflow: hidden;text-align: left;background-color: #f0f8ff;}#sk-container-id-1 div.sk-toggleable__content pre {margin: 0.2em;color: black;border-radius: 0.25em;background-color: #f0f8ff;}#sk-container-id-1 input.sk-toggleable__control:checked~div.sk-toggleable__content {max-height: 200px;max-width: 100%;overflow: auto;}#sk-container-id-1 input.sk-toggleable__control:checked~label.sk-toggleable__label-arrow:before {content: \"▾\";}#sk-container-id-1 div.sk-estimator input.sk-toggleable__control:checked~label.sk-toggleable__label {background-color: #d4ebff;}#sk-container-id-1 div.sk-label input.sk-toggleable__control:checked~label.sk-toggleable__label {background-color: #d4ebff;}#sk-container-id-1 input.sk-hidden--visually {border: 0;clip: rect(1px 1px 1px 1px);clip: rect(1px, 1px, 1px, 1px);height: 1px;margin: -1px;overflow: hidden;padding: 0;position: absolute;width: 1px;}#sk-container-id-1 div.sk-estimator {font-family: monospace;background-color: #f0f8ff;border: 1px dotted black;border-radius: 0.25em;box-sizing: border-box;margin-bottom: 0.5em;}#sk-container-id-1 div.sk-estimator:hover {background-color: #d4ebff;}#sk-container-id-1 div.sk-parallel-item::after {content: \"\";width: 100%;border-bottom: 1px solid gray;flex-grow: 1;}#sk-container-id-1 div.sk-label:hover label.sk-toggleable__label {background-color: #d4ebff;}#sk-container-id-1 div.sk-serial::before {content: \"\";position: absolute;border-left: 1px solid gray;box-sizing: border-box;top: 0;bottom: 0;left: 50%;z-index: 0;}#sk-container-id-1 div.sk-serial {display: flex;flex-direction: column;align-items: center;background-color: white;padding-right: 0.2em;padding-left: 0.2em;position: relative;}#sk-container-id-1 div.sk-item {position: relative;z-index: 1;}#sk-container-id-1 div.sk-parallel {display: flex;align-items: stretch;justify-content: center;background-color: white;position: relative;}#sk-container-id-1 div.sk-item::before, #sk-container-id-1 div.sk-parallel-item::before {content: \"\";position: absolute;border-left: 1px solid gray;box-sizing: border-box;top: 0;bottom: 0;left: 50%;z-index: -1;}#sk-container-id-1 div.sk-parallel-item {display: flex;flex-direction: column;z-index: 1;position: relative;background-color: white;}#sk-container-id-1 div.sk-parallel-item:first-child::after {align-self: flex-end;width: 50%;}#sk-container-id-1 div.sk-parallel-item:last-child::after {align-self: flex-start;width: 50%;}#sk-container-id-1 div.sk-parallel-item:only-child::after {width: 0;}#sk-container-id-1 div.sk-dashed-wrapped {border: 1px dashed gray;margin: 0 0.4em 0.5em 0.4em;box-sizing: border-box;padding-bottom: 0.4em;background-color: white;}#sk-container-id-1 div.sk-label label {font-family: monospace;font-weight: bold;display: inline-block;line-height: 1.2em;}#sk-container-id-1 div.sk-label-container {text-align: center;}#sk-container-id-1 div.sk-container {/* jupyter's `normalize.less` sets `[hidden] { display: none; }` but bootstrap.min.css set `[hidden] { display: none !important; }` so we also need the `!important` here to be able to override the default hidden behavior on the sphinx rendered scikit-learn.org. See: https://github.com/scikit-learn/scikit-learn/issues/21755 */display: inline-block !important;position: relative;}#sk-container-id-1 div.sk-text-repr-fallback {display: none;}</style><div id=\"sk-container-id-1\" class=\"sk-top-container\"><div class=\"sk-text-repr-fallback\"><pre>MultinomialNB()</pre><b>In a Jupyter environment, please rerun this cell to show the HTML representation or trust the notebook. <br />On GitHub, the HTML representation is unable to render, please try loading this page with nbviewer.org.</b></div><div class=\"sk-container\" hidden><div class=\"sk-item\"><div class=\"sk-estimator sk-toggleable\"><input class=\"sk-toggleable__control sk-hidden--visually\" id=\"sk-estimator-id-1\" type=\"checkbox\" checked><label for=\"sk-estimator-id-1\" class=\"sk-toggleable__label sk-toggleable__label-arrow\">MultinomialNB</label><div class=\"sk-toggleable__content\"><pre>MultinomialNB()</pre></div></div></div></div></div>"
      ],
      "text/plain": [
       "MultinomialNB()"
      ]
     },
     "execution_count": 10,
     "metadata": {},
     "output_type": "execute_result"
    }
   ],
   "source": [
    "# Trainiere ein weiteres Naive Bayes Modell (MultinomialNB)\n",
    "from sklearn.naive_bayes import MultinomialNB\n",
    "model = MultinomialNB()\n",
    "model.fit(X_train.toarray(), y_train)\n"
   ]
  },
  {
   "cell_type": "code",
   "execution_count": 11,
   "id": "eb9729f8-4cf7-4ece-bfde-92e7ec6933e8",
   "metadata": {},
   "outputs": [
    {
     "data": {
      "text/plain": [
       "0.9810967538606997"
      ]
     },
     "execution_count": 11,
     "metadata": {},
     "output_type": "execute_result"
    }
   ],
   "source": [
    "# Evaluiere das zweite Modell mit Kreuzvalidierung\n",
    "from sklearn.model_selection import cross_val_score\n",
    "crossVAL = cross_val_score(model, X_train.toarray(), y_train, cv=5)\n",
    "np.mean(crossVAL)"
   ]
  },
  {
   "cell_type": "markdown",
   "id": "46c9b597-b246-46d3-90b6-d3afb8507989",
   "metadata": {},
   "source": [
    "5. **Bewertung und Visualisierung der Vorhersagen:**\n",
    "   - Berechne die Genauigkeit und zeige den Klassifizierungsbericht für das zweite Modell.\n",
    "   - Visualisiere die korrekten und inkorrekten Vorhersagen in einem Balkendiagramm.\n"
   ]
  },
  {
   "cell_type": "code",
   "execution_count": 12,
   "id": "7d31aa2e-8658-4edd-8c5e-d2f30ec993a3",
   "metadata": {},
   "outputs": [
    {
     "name": "stdout",
     "output_type": "stream",
     "text": [
      "Genauigkeit: 0.99\n",
      "              precision    recall  f1-score   support\n",
      "\n",
      "  Nicht-Spam       0.99      1.00      0.99      1196\n",
      "        spam       0.98      0.92      0.95       197\n",
      "\n",
      "    accuracy                           0.99      1393\n",
      "   macro avg       0.99      0.96      0.97      1393\n",
      "weighted avg       0.99      0.99      0.99      1393\n",
      "\n"
     ]
    }
   ],
   "source": [
    "# Evaluiere das Modell mit Testdaten und zeige Metriken\n",
    "from sklearn.metrics import accuracy_score, classification_report\n",
    "predictions = model.predict(X_test)\n",
    "accuracy = accuracy_score(y_test, predictions)\n",
    "print(f'Genauigkeit: {accuracy:.2f}')\n",
    "print(classification_report(y_test, predictions))"
   ]
  },
  {
   "cell_type": "code",
   "execution_count": 13,
   "id": "b0daf6df-78e7-489c-8582-0d396485f2a4",
   "metadata": {},
   "outputs": [
    {
     "data": {
      "image/png": "[encoded data removed]",
      "text/plain": [
       "<Figure size 600x400 with 1 Axes>"
      ]
     },
     "metadata": {},
     "output_type": "display_data"
    }
   ],
   "source": [
    "correct_predictions = (y_test == predictions).sum()\n",
    "incorrect_predictions = len(y_test) - correct_predictions\n",
    "\n",
    "# Visualisiere die Vorhersagen\n",
    "plt.figure(figsize=(6, 4))\n",
    "plt.bar(['Korrekt', 'Falsch'], [correct_predictions, incorrect_predictions], color=['green', 'red'])\n",
    "plt.xlabel('Vorhersagen')\n",
    "plt.ylabel('Anzahl')\n",
    "plt.title('Korrekte und falsche Vorhersagen')\n",
    "plt.show()"
   ]
  },
  {
   "cell_type": "markdown",
   "id": "e73dadfc-4ab3-44f3-a7cd-60eb9c64dad5",
   "metadata": {},
   "source": [
    "6. **Vorhersagen für neue Daten:**\n",
    "   - Mache Vorhersagen für spezifische Beispielnachrichten (`msg`) und zeige die Ergebnisse an."
   ]
  },
  {
   "cell_type": "code",
   "execution_count": 14,
   "id": "2b6946c4-209f-4e15-8f8a-4837bb18eee4",
   "metadata": {},
   "outputs": [
    {
     "name": "stdout",
     "output_type": "stream",
     "text": [
      "Diese E-Mail ist eine Nicht-Spam E-Mail.\n"
     ]
    }
   ],
   "source": [
    "# Mache Vorhersagen für neue Daten und zeige sie an\n",
    "msg = np.array([\"Go until jurong point, crazy.. Available only ...\"])\n",
    "msg_transform = cv.transform(msg)\n",
    "predictions = model.predict(msg_transform.toarray())\n",
    "print(f\"Diese E-Mail ist eine {predictions[0]} E-Mail.\")"
   ]
  },
  {
   "cell_type": "code",
   "execution_count": 15,
   "id": "ca4ac37f-4eef-453c-a552-be617808e2d3",
   "metadata": {},
   "outputs": [
    {
     "name": "stdout",
     "output_type": "stream",
     "text": [
      "Diese E-Mail ist eine spam E-Mail.\n"
     ]
    }
   ],
   "source": [
    "msg  = np.array([\"Free entry in 2 a wkly comp to win FA Cup fina....\" ])\n",
    "msg_transform = cv.transform(msg)\n",
    "predictions = model.predict(msg_transform.toarray())\n",
    "print(f\"Diese E-Mail ist eine {predictions[0]} E-Mail.\")"
   ]
  },
  {
   "cell_type": "markdown",
   "id": "bdaf7a50-3ecc-43ca-a0ac-3ae2def52374",
   "metadata": {},
   "source": [
    "7. **Speichern und Laden des Modells mit Pickle:**\n",
    "   - Speichere das trainierte Modell (`model`) in einer Datei namens `\"rs_random_forest_model_wheat_1.pkl\"` mit `pickle.dump`.\n",
    "   - Lade das gespeicherte Modell von der Datei `\"rs_random_forest_model_wheat_1.pkl\"` mit `pickle.load`.\n",
    "   - Bewerte die Leistung des geladenen Modells erneut auf den Testdaten.\n"
   ]
  },
  {
   "cell_type": "code",
   "execution_count": 16,
   "id": "1fa1c745-9c11-46f4-bb19-6602daff5529",
   "metadata": {},
   "outputs": [],
   "source": [
    "# Speichere und lade das trainierte Modell mit pickle\n",
    "import pickle\n",
    "\n",
    "# Speichere das trainierte Modell\n",
    "pickle.dump(model, open(\"rs_random_forest_model_wheat_1.pkl\", \"wb\"))"
   ]
  },
  {
   "cell_type": "code",
   "execution_count": 17,
   "id": "27bd10f7-0692-4788-8d09-984d226d75e5",
   "metadata": {},
   "outputs": [
    {
     "data": {
      "text/plain": [
       "0.9863603732950467"
      ]
     },
     "execution_count": 17,
     "metadata": {},
     "output_type": "execute_result"
    }
   ],
   "source": [
    "# Lade das gespeicherte Modell\n",
    "loaded_pickle_model = pickle.load(open(\"rs_random_forest_model_wheat_1.pkl\", \"rb\"))\n",
    "\n",
    "# Evaluieren des geladenen Modells\n",
    "loaded_pickle_model.score(X_test, y_test)"
   ]
  }
 ],
 "metadata": {
  "kernelspec": {
   "display_name": "Python 3 (ipykernel)",
   "language": "python",
   "name": "python3"
  },
  "language_info": {
   "codemirror_mode": {
    "name": "ipython",
    "version": 3
   },
   "file_extension": ".py",
   "mimetype": "text/x-python",
   "name": "python",
   "nbconvert_exporter": "python",
   "pygments_lexer": "ipython3",
   "version": "3.9.18"
  }
 },
 "nbformat": 4,
 "nbformat_minor": 5
}
