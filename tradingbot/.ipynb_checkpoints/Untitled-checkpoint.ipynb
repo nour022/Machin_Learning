{
 "cells": [
  {
   "cell_type": "code",
   "execution_count": 1,
   "id": "a0bfa87c-90e1-4bdb-b167-3fd8fa41b3e2",
   "metadata": {},
   "outputs": [],
   "source": [
    "%matplotlib inline\n",
    "import matplotlib.pyplot as plt\n",
    "import numpy as np\n",
    "import pandas as pd"
   ]
  },
  {
   "cell_type": "code",
   "execution_count": 78,
   "id": "8fe5ee3b-5ca6-4cc6-b18c-fe2b96b51541",
   "metadata": {},
   "outputs": [
    {
     "data": {
      "text/html": [
       "<div>\n",
       "<style scoped>\n",
       "    .dataframe tbody tr th:only-of-type {\n",
       "        vertical-align: middle;\n",
       "    }\n",
       "\n",
       "    .dataframe tbody tr th {\n",
       "        vertical-align: top;\n",
       "    }\n",
       "\n",
       "    .dataframe thead th {\n",
       "        text-align: right;\n",
       "    }\n",
       "</style>\n",
       "<table border=\"1\" class=\"dataframe\">\n",
       "  <thead>\n",
       "    <tr style=\"text-align: right;\">\n",
       "      <th></th>\n",
       "      <th>time</th>\n",
       "      <th>open</th>\n",
       "      <th>high</th>\n",
       "      <th>low</th>\n",
       "      <th>close</th>\n",
       "      <th>stand</th>\n",
       "    </tr>\n",
       "  </thead>\n",
       "  <tbody>\n",
       "    <tr>\n",
       "      <th>0</th>\n",
       "      <td>2023-11-02 06:20:00</td>\n",
       "      <td>1.05992</td>\n",
       "      <td>1.05999</td>\n",
       "      <td>1.05983</td>\n",
       "      <td>1.05986</td>\n",
       "      <td>True</td>\n",
       "    </tr>\n",
       "    <tr>\n",
       "      <th>1</th>\n",
       "      <td>2023-11-02 06:25:00</td>\n",
       "      <td>1.05987</td>\n",
       "      <td>1.05997</td>\n",
       "      <td>1.05979</td>\n",
       "      <td>1.05993</td>\n",
       "      <td>False</td>\n",
       "    </tr>\n",
       "    <tr>\n",
       "      <th>2</th>\n",
       "      <td>2023-11-02 06:30:00</td>\n",
       "      <td>1.05993</td>\n",
       "      <td>1.05997</td>\n",
       "      <td>1.05989</td>\n",
       "      <td>1.05990</td>\n",
       "      <td>True</td>\n",
       "    </tr>\n",
       "    <tr>\n",
       "      <th>3</th>\n",
       "      <td>2023-11-02 06:35:00</td>\n",
       "      <td>1.05990</td>\n",
       "      <td>1.05991</td>\n",
       "      <td>1.05961</td>\n",
       "      <td>1.05966</td>\n",
       "      <td>True</td>\n",
       "    </tr>\n",
       "    <tr>\n",
       "      <th>4</th>\n",
       "      <td>2023-11-02 06:40:00</td>\n",
       "      <td>1.05966</td>\n",
       "      <td>1.05983</td>\n",
       "      <td>1.05966</td>\n",
       "      <td>1.05982</td>\n",
       "      <td>False</td>\n",
       "    </tr>\n",
       "  </tbody>\n",
       "</table>\n",
       "</div>"
      ],
      "text/plain": [
       "                  time     open     high      low    close  stand\n",
       "0  2023-11-02 06:20:00  1.05992  1.05999  1.05983  1.05986   True\n",
       "1  2023-11-02 06:25:00  1.05987  1.05997  1.05979  1.05993  False\n",
       "2  2023-11-02 06:30:00  1.05993  1.05997  1.05989  1.05990   True\n",
       "3  2023-11-02 06:35:00  1.05990  1.05991  1.05961  1.05966   True\n",
       "4  2023-11-02 06:40:00  1.05966  1.05983  1.05966  1.05982  False"
      ]
     },
     "execution_count": 78,
     "metadata": {},
     "output_type": "execute_result"
    }
   ],
   "source": [
    "daten = pd.read_csv(\"mein_dataframe.csv\")\n",
    "daten.head()\n"
   ]
  },
  {
   "cell_type": "code",
   "execution_count": 79,
   "id": "b34ec501-78ed-4c40-82bd-a7760d53ca98",
   "metadata": {},
   "outputs": [
    {
     "data": {
      "text/plain": [
       "time      object\n",
       "open     float64\n",
       "high     float64\n",
       "low      float64\n",
       "close    float64\n",
       "dtype: object"
      ]
     },
     "execution_count": 79,
     "metadata": {},
     "output_type": "execute_result"
    }
   ],
   "source": [
    "new_daten = daten.drop(\"stand\",axis=1)\n",
    "\n",
    "X = new_daten.drop(\"close\",axis=1)\n",
    "y= new_daten[\"close\"]\n",
    "\n",
    "from sklearn.model_selection import train_test_split\n",
    "X_train, X_test, y_train, y_test = train_test_split(X, y)\n",
    "from sklearn.linear_model import LinearRegression\n",
    "\n",
    "model = LinearRegression()\n",
    "# model.fit(X_train, y_train)\n",
    "new_daten.dtypes"
   ]
  },
  {
   "cell_type": "code",
   "execution_count": 105,
   "id": "05283757-9e70-4ff7-99f3-6c9e42f0e0e7",
   "metadata": {},
   "outputs": [
    {
     "ename": "TypeError",
     "evalue": "strptime() argument 1 must be str, not float",
     "output_type": "error",
     "traceback": [
      "\u001b[1;31m---------------------------------------------------------------------------\u001b[0m",
      "\u001b[1;31mTypeError\u001b[0m                                 Traceback (most recent call last)",
      "Cell \u001b[1;32mIn[105], line 9\u001b[0m\n\u001b[0;32m      6\u001b[0m \u001b[38;5;66;03m# Iteration durch das Array von Zeitstrings\u001b[39;00m\n\u001b[0;32m      7\u001b[0m \u001b[38;5;28;01mfor\u001b[39;00m time_string  \u001b[38;5;129;01min\u001b[39;00m new_daten[\u001b[38;5;124m\"\u001b[39m\u001b[38;5;124mtime\u001b[39m\u001b[38;5;124m\"\u001b[39m]:\n\u001b[0;32m      8\u001b[0m     \u001b[38;5;66;03m# Convertiere den Zeitstring in ein datetime-Objekt\u001b[39;00m\n\u001b[1;32m----> 9\u001b[0m     time_object \u001b[38;5;241m=\u001b[39m \u001b[43mdatetime\u001b[49m\u001b[38;5;241;43m.\u001b[39;49m\u001b[43mstrptime\u001b[49m\u001b[43m(\u001b[49m\u001b[43mtime_string\u001b[49m\u001b[43m,\u001b[49m\u001b[43m \u001b[49m\u001b[38;5;124;43m'\u001b[39;49m\u001b[38;5;124;43m%\u001b[39;49m\u001b[38;5;124;43mY-\u001b[39;49m\u001b[38;5;124;43m%\u001b[39;49m\u001b[38;5;124;43mm-\u001b[39;49m\u001b[38;5;132;43;01m%d\u001b[39;49;00m\u001b[38;5;124;43m \u001b[39;49m\u001b[38;5;124;43m%\u001b[39;49m\u001b[38;5;124;43mH:\u001b[39;49m\u001b[38;5;124;43m%\u001b[39;49m\u001b[38;5;124;43mM:\u001b[39;49m\u001b[38;5;124;43m%\u001b[39;49m\u001b[38;5;124;43mS\u001b[39;49m\u001b[38;5;124;43m'\u001b[39;49m\u001b[43m)\u001b[49m\n\u001b[0;32m     11\u001b[0m     \u001b[38;5;66;03m# Konvertiere das datetime-Objekt in einen Float (repräsentiert die Zeit in Sekunden)\u001b[39;00m\n\u001b[0;32m     12\u001b[0m     time_float \u001b[38;5;241m=\u001b[39m time_object\u001b[38;5;241m.\u001b[39mtimestamp()\n",
      "\u001b[1;31mTypeError\u001b[0m: strptime() argument 1 must be str, not float"
     ]
    }
   ],
   "source": [
    "from datetime import datetime\n",
    "\n",
    "# Leeres Array für die konvertierten Zeit-Floats\n",
    "time_floats = []\n",
    "\n",
    "# Iteration durch das Array von Zeitstrings\n",
    "for time_string  in new_daten[\"time\"]:\n",
    "    # Convertiere den Zeitstring in ein datetime-Objekt\n",
    "    time_object = datetime.strptime(time_string, '%Y-%m-%d %H:%M:%S')\n",
    "    \n",
    "    # Konvertiere das datetime-Objekt in einen Float (repräsentiert die Zeit in Sekunden)\n",
    "    time_float = time_object.timestamp()\n",
    "    \n",
    "    # Füge den Float-Wert zur Liste der konvertierten Floats hinzu\n",
    "    time_floats.append(time_float)\n",
    "\n",
    "X = new_daten.drop(\"close\",axis=1)\n",
    "y= new_daten[\"close\"]\n",
    "\n",
    "from sklearn.model_selection import train_test_split\n",
    "X_train, X_test, y_train, y_test = train_test_split(X, y)\n",
    "from sklearn.linear_model import LinearRegression\n",
    "\n",
    "model = LinearRegression()\n",
    "model.fit(X_train, y_train)"
   ]
  },
  {
   "cell_type": "code",
   "execution_count": 81,
   "id": "bb06345c-acd8-4fad-bb4b-b1062189424a",
   "metadata": {},
   "outputs": [
    {
     "data": {
      "text/plain": [
       "0.9998892916431174"
      ]
     },
     "execution_count": 81,
     "metadata": {},
     "output_type": "execute_result"
    }
   ],
   "source": [
    "model.score(X_test,y_test)"
   ]
  },
  {
   "cell_type": "code",
   "execution_count": 82,
   "id": "92ba8a93-4035-43d7-8a91-dab171342528",
   "metadata": {},
   "outputs": [
    {
     "data": {
      "text/plain": [
       "array([1.09079645, 1.08875765, 1.09411825, ..., 1.07622069, 1.0956146 ,\n",
       "       1.09751316])"
      ]
     },
     "execution_count": 82,
     "metadata": {},
     "output_type": "execute_result"
    }
   ],
   "source": [
    "model.predict(X_test)"
   ]
  },
  {
   "cell_type": "code",
   "execution_count": 101,
   "id": "73db9659-0382-4437-934b-cdea9aff93ee",
   "metadata": {},
   "outputs": [
    {
     "data": {
      "text/html": [
       "<div>\n",
       "<style scoped>\n",
       "    .dataframe tbody tr th:only-of-type {\n",
       "        vertical-align: middle;\n",
       "    }\n",
       "\n",
       "    .dataframe tbody tr th {\n",
       "        vertical-align: top;\n",
       "    }\n",
       "\n",
       "    .dataframe thead th {\n",
       "        text-align: right;\n",
       "    }\n",
       "</style>\n",
       "<table border=\"1\" class=\"dataframe\">\n",
       "  <thead>\n",
       "    <tr style=\"text-align: right;\">\n",
       "      <th></th>\n",
       "      <th>time</th>\n",
       "      <th>open</th>\n",
       "      <th>high</th>\n",
       "      <th>low</th>\n",
       "    </tr>\n",
       "  </thead>\n",
       "  <tbody>\n",
       "    <tr>\n",
       "      <th>70</th>\n",
       "      <td>1.703115e+09</td>\n",
       "      <td>1.0599</td>\n",
       "      <td>1.06047</td>\n",
       "      <td>1.05984</td>\n",
       "    </tr>\n",
       "  </tbody>\n",
       "</table>\n",
       "</div>"
      ],
      "text/plain": [
       "            time    open     high      low\n",
       "70  1.703115e+09  1.0599  1.06047  1.05984"
      ]
     },
     "execution_count": 101,
     "metadata": {},
     "output_type": "execute_result"
    }
   ],
   "source": [
    "y_preds = model.predict(X_test)\n",
    "\n",
    "data = {\"ai-closeWert\": y_preds, \"real-closeWert\": y_test}\n",
    "df = pd.DataFrame(data)\n",
    "# df[df[\"real-closeWert\"]<df[\"ai-closeWert\"]]\n"
   ]
  },
  {
   "cell_type": "code",
   "execution_count": 89,
   "id": "739a9e58-6822-47b1-99b6-9d0409418669",
   "metadata": {},
   "outputs": [],
   "source": [
    "\n",
    "column_names = ['time', 'open', 'high', 'low']\n",
    "values = [[1681529400.0, 1.09432, 1.09445, 1.09425]]\n",
    "\n",
    "new_test = pd.DataFrame(values, columns=column_names)\n"
   ]
  },
  {
   "cell_type": "code",
   "execution_count": 103,
   "id": "b5b65141-c9f8-4f40-a362-83f16abcf317",
   "metadata": {},
   "outputs": [
    {
     "data": {
      "text/plain": [
       "1.0943692127523115"
      ]
     },
     "execution_count": 103,
     "metadata": {},
     "output_type": "execute_result"
    }
   ],
   "source": [
    "#die aus gabe soll diese zahl raus 1.09428  die daten mussen spliten um den model zu erkannden wie er die warte schetzen kann \n",
    "model.predict(new_test)[0]"
   ]
  },
  {
   "cell_type": "code",
   "execution_count": 104,
   "id": "1386585b-9d24-464d-ba0c-d1ee96a68c87",
   "metadata": {},
   "outputs": [
    {
     "data": {
      "text/plain": [
       "1.0603211036805351"
      ]
     },
     "execution_count": 104,
     "metadata": {},
     "output_type": "execute_result"
    }
   ],
   "source": [
    "# 1.05966 \n",
    "model.predict(X_test[X_test[\"open\"]==1.05990])[0]"
   ]
  },
  {
   "cell_type": "code",
   "execution_count": null,
   "id": "03bddab1-0064-4b2a-96d3-68f540915862",
   "metadata": {},
   "outputs": [],
   "source": []
  }
 ],
 "metadata": {
  "kernelspec": {
   "display_name": "Python 3 (ipykernel)",
   "language": "python",
   "name": "python3"
  },
  "language_info": {
   "codemirror_mode": {
    "name": "ipython",
    "version": 3
   },
   "file_extension": ".py",
   "mimetype": "text/x-python",
   "name": "python",
   "nbconvert_exporter": "python",
   "pygments_lexer": "ipython3",
   "version": "3.9.18"
  }
 },
 "nbformat": 4,
 "nbformat_minor": 5
}
